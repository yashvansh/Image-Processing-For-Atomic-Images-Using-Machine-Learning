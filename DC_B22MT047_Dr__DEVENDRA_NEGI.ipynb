{
  "cells": [
    {
      "cell_type": "markdown",
      "metadata": {
        "id": "prH7zZWeDepq"
      },
      "source": [
        "# DATA GENERATION"
      ]
    },
    {
      "cell_type": "code",
      "execution_count": null,
      "metadata": {
        "colab": {
          "base_uri": "https://localhost:8080/"
        },
        "id": "AUcJJUu5CIbr",
        "outputId": "e2c748ea-235a-487a-f615-2af217331366"
      },
      "outputs": [
        {
          "output_type": "stream",
          "name": "stdout",
          "text": [
            "500 noisy images generated and saved in C:\\Users\\HP\\Desktop\\DC 2024\n"
          ]
        }
      ],
      "source": [
        "import cv2\n",
        "import numpy as np\n",
        "import os\n",
        "\n",
        "# Load the image\n",
        "image_path = r\"/content/full_TEM_image_1.jpg\"\n",
        "original_image = cv2.imread(image_path)\n",
        "\n",
        "#Directory to save the generated images\n",
        "output_directory = r\"C:\\Users\\HP\\Desktop\\DC 2024\"\n",
        "os.makedirs(output_directory, exist_ok=True)\n",
        "\n",
        "# Number of samples to generate\n",
        "num_samples = 500\n",
        "\n",
        "# Standard deviation of the Gaussian noise\n",
        "noise_std = 20\n",
        "\n",
        "# Generate and save the samples\n",
        "for i in range(num_samples):\n",
        "    # Generate Gaussian noise\n",
        "    noise = np.random.normal(0, noise_std, original_image.shape).astype(np.uint8)\n",
        "\n",
        "    # Add noise to the original image\n",
        "    noisy_image = cv2.add(original_image, noise)\n",
        "\n",
        "    # Save the noisy image\n",
        "    output_path = os.path.join(output_directory, f\"noisy_image_{i+1}.jpg\")\n",
        "    cv2.imwrite(output_path, noisy_image)\n",
        "\n",
        "print(f\"{num_samples} noisy images generated and saved in {output_directory}\")\n"
      ]
    },
    {
      "cell_type": "markdown",
      "metadata": {
        "id": "ReY-z6koDdat"
      },
      "source": [
        "DENOISIFY THE IMAGES"
      ]
    },
    {
      "cell_type": "code",
      "execution_count": null,
      "metadata": {
        "colab": {
          "base_uri": "https://localhost:8080/"
        },
        "id": "WTuVsGC4cqC2",
        "outputId": "92164b0e-c3ed-44e9-f440-c79c5d6aa326"
      },
      "outputs": [
        {
          "output_type": "stream",
          "name": "stdout",
          "text": [
            "500 noisy images denoised and enhanced. Final images saved in C:\\Users\\HP\\Desktop\\DC 2024\\denoised_and_enhanced_images\n"
          ]
        }
      ],
      "source": [
        "import cv2\n",
        "import numpy as np\n",
        "import os\n",
        "\n",
        "# Function to denoise an image using Non-Local Means Denoising\n",
        "def denoise_image(image):\n",
        "    return cv2.fastNlMeansDenoisingColored(image, None, 10, 10, 7, 21)\n",
        "\n",
        "# Function to enhance image clarity\n",
        "def enhance_clarity(image):\n",
        "    # Convert to grayscale\n",
        "    gray = cv2.cvtColor(image, cv2.COLOR_BGR2GRAY)\n",
        "\n",
        "    # Apply histogram equalization\n",
        "    equalized = cv2.equalizeHist(gray)\n",
        "\n",
        "    # Convert back to color\n",
        "    enhanced_image = cv2.cvtColor(equalized, cv2.COLOR_GRAY2BGR)\n",
        "\n",
        "    return enhanced_image\n",
        "\n",
        "# Load the image\n",
        "image_path = r\"/content/full_TEM_image_1.jpg\"\n",
        "original_image = cv2.imread(image_path)\n",
        "\n",
        "# Directory to save the denoised and enhanced images\n",
        "output_directory = r\"C:\\Users\\HP\\Desktop\\DC 2024\\denoised_and_enhanced_images\"\n",
        "os.makedirs(output_directory, exist_ok=True)\n",
        "\n",
        "# Number of samples to generate\n",
        "num_samples = 500\n",
        "\n",
        "# Standard deviation of the Gaussian noise\n",
        "noise_std = 20\n",
        "\n",
        "# Denoise, enhance clarity, and save the images\n",
        "for i in range(num_samples):\n",
        "    # Generate Gaussian noise\n",
        "    noise = np.random.normal(0, noise_std, original_image.shape).astype(np.uint8)\n",
        "\n",
        "    # Add noise to the original image\n",
        "    noisy_image = cv2.add(original_image, noise)\n",
        "\n",
        "    # Denoise the noisy image\n",
        "    denoised_image = denoise_image(noisy_image)\n",
        "\n",
        "    # Enhance clarity\n",
        "    final_image = enhance_clarity(denoised_image)\n",
        "\n",
        "    # Save the final image\n",
        "    output_path = os.path.join(output_directory, f\"final_image_{i+1}.jpg\")\n",
        "    cv2.imwrite(output_path, final_image)\n",
        "\n",
        "print(f\"{num_samples} noisy images denoised and enhanced. Final images saved in {output_directory}\")\n"
      ]
    }
  ],
  "metadata": {
    "colab": {
      "provenance": []
    },
    "kernelspec": {
      "display_name": "Python 3",
      "name": "python3"
    },
    "language_info": {
      "name": "python"
    }
  },
  "nbformat": 4,
  "nbformat_minor": 0
}